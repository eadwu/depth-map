{
 "cells": [
  {
   "cell_type": "code",
   "execution_count": null,
   "metadata": {},
   "outputs": [],
   "source": [
    "SEED = 1212027"
   ]
  },
  {
   "cell_type": "code",
   "execution_count": null,
   "metadata": {},
   "outputs": [],
   "source": [
    "import os\n",
    "import sys\n",
    "\n",
    "# Include root directory into PYTHONPATH\n",
    "sys.path.append(os.path.abspath(\"..\"))"
   ]
  },
  {
   "cell_type": "markdown",
   "metadata": {},
   "source": [
    "# Initialization"
   ]
  },
  {
   "cell_type": "code",
   "execution_count": null,
   "metadata": {},
   "outputs": [],
   "source": [
    "import local.utils as utils\n",
    "\n",
    "utils.deterministic_environment(SEED)\n",
    "\n",
    "# Determine global device\n",
    "device = utils.get_torch_device()\n",
    "print(\"Device `{}` for computations with PyTorch\".format(device))"
   ]
  },
  {
   "cell_type": "markdown",
   "metadata": {},
   "source": [
    "# Dataset Preparation"
   ]
  },
  {
   "cell_type": "code",
   "execution_count": null,
   "metadata": {},
   "outputs": [],
   "source": [
    "import os\n",
    "\n",
    "ROOT = os.path.abspath(\"..\")\n",
    "DIODE_ROOT = os.path.join(ROOT, \"diode\")\n",
    "DATASET_PATH = os.path.join(DIODE_ROOT, \"val\", \"indoors\")"
   ]
  },
  {
   "cell_type": "code",
   "execution_count": null,
   "metadata": {},
   "outputs": [],
   "source": [
    "from local.diode.utils import get_filelist, format_filelist\n",
    "import pandas as pd\n",
    "\n",
    "# DataFrame storage with initial shuffling for train/valid split\n",
    "data = pd.DataFrame(format_filelist(get_filelist(DATASET_PATH)))\n",
    "data = data.sample(frac=1, random_state=SEED)"
   ]
  },
  {
   "cell_type": "code",
   "execution_count": null,
   "metadata": {},
   "outputs": [],
   "source": [
    "import math\n",
    "\n",
    "split = math.floor(len(data) * 0.8)\n",
    "train = data[:split]\n",
    "valid = data[split:]"
   ]
  },
  {
   "cell_type": "markdown",
   "metadata": {},
   "source": [
    "# Model Creation"
   ]
  },
  {
   "cell_type": "code",
   "execution_count": null,
   "metadata": {},
   "outputs": [],
   "source": [
    "import torch\n",
    "\n",
    "# UNet Architecture from PyTorch Hub\n",
    "model = torch.hub.load(\n",
    "    'mateuszbuda/brain-segmentation-pytorch', 'unet',\n",
    "    in_channels=3, out_channels=1, init_features=32,\n",
    "    pretrained=False\n",
    ")"
   ]
  },
  {
   "cell_type": "markdown",
   "metadata": {},
   "source": [
    "# Model Summaries"
   ]
  },
  {
   "cell_type": "code",
   "execution_count": null,
   "metadata": {},
   "outputs": [],
   "source": [
    "from torchinfo import summary\n",
    "\n",
    "summary(model, input_size=(1, 3, 768, 1024), depth=8)"
   ]
  },
  {
   "cell_type": "markdown",
   "metadata": {},
   "source": [
    "# Training"
   ]
  },
  {
   "cell_type": "code",
   "execution_count": null,
   "metadata": {},
   "outputs": [],
   "source": [
    "from local.diode.dataset import DIODEDataset\n",
    "from local.diode.transforms import ClipMaxDepth, ZScoreNormalization, MinMaxScaler\n",
    "from torch.utils.data import DataLoader\n",
    "from torchvision.transforms import Compose, Grayscale, ToTensor\n",
    "\n",
    "base_preprocess = Compose([\n",
    "  # Convert to PyTorch Tensor\n",
    "  ToTensor(),\n",
    "])\n",
    "\n",
    "image_preprocess = Compose([\n",
    "  # Grayscale since depth perception does not need colors ideally\n",
    "  Grayscale(num_output_channels=3),\n",
    "  # Normalize input data\n",
    "  ZScoreNormalization(),\n",
    "])\n",
    "\n",
    "depth_preprocess = Compose([\n",
    "  # Clip maximum depth\n",
    "  ClipMaxDepth(300),\n",
    "  # Scale to range [0, 1]\n",
    "  MinMaxScaler(0., 1.)\n",
    "])\n",
    "\n",
    "# Create datasets\n",
    "datasets = {\"train\": train, \"valid\": valid}\n",
    "datasets = {\n",
    "    k: DIODEDataset(\n",
    "        v, \n",
    "        image_transform=Compose([base_preprocess, image_preprocess]),\n",
    "        depth_transform=Compose([base_preprocess, depth_preprocess]),\n",
    "    ) \n",
    "    for k, v in datasets.items()\n",
    "}\n",
    "\n",
    "# Create DataLoaders for batch processing\n",
    "dataloaders = {\n",
    "    k: DataLoader(v, batch_size=2, shuffle=True, num_workers=1) \n",
    "    for k, v in datasets.items()\n",
    "}"
   ]
  },
  {
   "cell_type": "code",
   "execution_count": null,
   "metadata": {},
   "outputs": [],
   "source": [
    "import torch.nn as nn\n",
    "from local.loss import ssim, depth_smoothness, weighted_loss\n",
    "\n",
    "criterion = weighted_loss.WeightedLoss(\n",
    "  [\n",
    "    ssim.MaximumSSIMLoss(k1=0.01 * 2, k2=0.03 * 2),\n",
    "    nn.MSELoss(),\n",
    "    depth_smoothness.InverseDepthSmoothnessLoss(),\n",
    "  ],\n",
    "  weights=[0.85, 0.1, 0.9],\n",
    ")"
   ]
  },
  {
   "cell_type": "code",
   "execution_count": null,
   "metadata": {},
   "outputs": [],
   "source": [
    "from torch import optim\n",
    "\n",
    "optimizer = optim.Adam(model.parameters(), lr=1e-2)\n",
    "# Decay learning rate by 0.01 every 10 epochs\n",
    "adaptive_lr = optim.lr_scheduler.StepLR(optimizer, step_size=2, gamma=0.01)"
   ]
  },
  {
   "cell_type": "code",
   "execution_count": null,
   "metadata": {},
   "outputs": [],
   "source": [
    "import time\n",
    "\n",
    "\n",
    "def train_model(model, criterion, optimizer, scheduler, epochs=50):\n",
    "    best_loss = {phase: 1e6 for phase in [\"train\", \"valid\"]}\n",
    "\n",
    "    model = model.to(device)\n",
    "    criterion = criterion.to(device)\n",
    "    for epoch in range(1, epochs + 1):\n",
    "        print(f\"Epoch {epoch}/{epochs}\")\n",
    "        print('-' * 10)\n",
    "\n",
    "        # Training and validation phases\n",
    "        for phase in [\"train\", \"valid\"]:\n",
    "            dataset_loader = dataloaders[phase]\n",
    "\n",
    "            if phase == \"train\":\n",
    "                model.train()\n",
    "            elif phase == \"valid\":\n",
    "                model.eval()\n",
    "\n",
    "            phase_tick = time.time()\n",
    "            phase_loss = 0.0\n",
    "            phase_total = 0\n",
    "\n",
    "            for batch in dataset_loader:\n",
    "                input, target = batch[\"input\"], batch[\"target\"]\n",
    "\n",
    "                input = input.to(device)\n",
    "                target = target.to(device)\n",
    "                optimizer.zero_grad()\n",
    "\n",
    "                with torch.set_grad_enabled(phase == \"train\"):\n",
    "                    output = model(input)\n",
    "\n",
    "                    # Repeat channels by 3\n",
    "                    output = torch.repeat_interleave(output, 3, axis=1)\n",
    "                    target = torch.repeat_interleave(target, 3, axis=1)\n",
    "\n",
    "                    loss = criterion(target, output)\n",
    "\n",
    "                    if phase == \"train\":\n",
    "                        loss.backward()\n",
    "                        optimizer.step()\n",
    "                \n",
    "                phase_loss = phase_loss + loss * input.shape[0]\n",
    "                phase_total = phase_total + input.shape[0]\n",
    "\n",
    "            if phase == \"train\":\n",
    "                scheduler.step()\n",
    "\n",
    "            phase_time_diff = time.time() - phase_tick\n",
    "            epoch_loss = phase_loss / phase_total\n",
    "            print(\"{} Loss: {:.4f} - {} minute(s) {:.4f} second(s)\".format(\n",
    "                phase, epoch_loss, phase_time_diff // 60, phase_time_diff % 60\n",
    "            ))\n",
    "\n",
    "            best_phase_loss = best_loss[phase]\n",
    "            if epoch_loss < best_phase_loss:\n",
    "                best_loss[phase] = epoch_loss\n",
    "                torch.save(model.state_dict(), \"model_{}.pth\".format(phase))\n",
    "        \n",
    "        print()\n",
    "\n",
    "    # Load best model state\n",
    "    model = model.cpu()\n",
    "    criterion = criterion.cpu()\n",
    "    return model"
   ]
  },
  {
   "cell_type": "code",
   "execution_count": null,
   "metadata": {},
   "outputs": [],
   "source": [
    "train_model(model, criterion, optimizer, adaptive_lr, epochs=30)"
   ]
  },
  {
   "cell_type": "code",
   "execution_count": null,
   "metadata": {},
   "outputs": [],
   "source": [
    "torch.save(model.state_dict(), 'model_final.pth')"
   ]
  },
  {
   "cell_type": "markdown",
   "metadata": {},
   "source": [
    "# Evaluating Model"
   ]
  },
  {
   "cell_type": "code",
   "execution_count": null,
   "metadata": {},
   "outputs": [],
   "source": [
    "model.load_state_dict(torch.load('model_valid.pth', map_location=torch.device('cpu')))\n",
    "model.eval()"
   ]
  },
  {
   "cell_type": "code",
   "execution_count": null,
   "metadata": {},
   "outputs": [],
   "source": [
    "from torchvision.transforms import ToTensor\n",
    "\n",
    "\n",
    "test_dataset = DataLoader(\n",
    "    DIODEDataset(valid, image_transform=base_preprocess, depth_transform=base_preprocess), \n",
    "    batch_size=1, shuffle=True, num_workers=2\n",
    ")"
   ]
  },
  {
   "cell_type": "code",
   "execution_count": null,
   "metadata": {},
   "outputs": [],
   "source": [
    "from local.utils import visualize_depth_map\n",
    "from piqa import SSIM\n",
    "import numpy as np\n",
    "\n",
    "\n",
    "for batch_index, batch in enumerate(test_dataset):\n",
    "    input, target, mask = batch[\"input\"], batch[\"target\"], batch[\"mask\"]\n",
    "\n",
    "    with torch.set_grad_enabled(False):\n",
    "        output = model(image_preprocess(input))\n",
    "\n",
    "    criterion_target = torch.repeat_interleave(depth_preprocess(target), 3, dim=1)\n",
    "    criterion_output = torch.repeat_interleave(output, 3, dim=1)\n",
    "    print(\n",
    "        SSIM(k1=0.01 * 2, k2=0.03 * 2)(criterion_target, criterion_output),\n",
    "        nn.MSELoss()(criterion_target, criterion_output),\n",
    "    )\n",
    "\n",
    "    input = np.transpose(input.squeeze(axis=0), (1, 2, 0))\n",
    "    target = np.transpose(target.squeeze(axis=0), (1, 2, 0))\n",
    "    output = np.transpose(output.squeeze(axis=0), (1, 2, 0))\n",
    "    mask = np.transpose(mask, (1, 2, 0))\n",
    "\n",
    "    # target = np.ma.masked_where(~mask, target)\n",
    "    visualize_depth_map(input, target, output)\n",
    "\n",
    "    if batch_index == 3:\n",
    "        break"
   ]
  }
 ],
 "metadata": {
  "interpreter": {
   "hash": "520e995520d0f28b9f1e7cacfd9ba1493aa60b57e5f0cc1543205df7dd9220a2"
  },
  "kernelspec": {
   "display_name": "Julia 1.6.2",
   "language": "python",
   "name": "python3"
  },
  "language_info": {
   "codemirror_mode": {
    "name": "ipython",
    "version": 3
   },
   "file_extension": ".py",
   "mimetype": "text/x-python",
   "name": "python",
   "nbconvert_exporter": "python",
   "pygments_lexer": "ipython3",
   "version": "3.9.6"
  },
  "orig_nbformat": 4
 },
 "nbformat": 4,
 "nbformat_minor": 2
}
